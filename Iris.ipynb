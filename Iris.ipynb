{
 "cells": [
  {
   "cell_type": "code",
   "execution_count": 1,
   "id": "ecf67ba8-ce29-4295-92e8-ffa546355168",
   "metadata": {},
   "outputs": [],
   "source": [
    "# import required library\n",
    "import pandas as pd\n",
    "import numpy as np\n",
    "import matplotlib.pyplot as plt\n",
    "%matplotlib inline\n",
    "import seaborn as sns\n",
    "import warnings # filter warnings\n",
    "warnings.filterwarnings('ignore')"
   ]
  },
  {
   "cell_type": "code",
   "execution_count": 2,
   "id": "020ebf40-1214-4173-87c2-34ad2e882d5d",
   "metadata": {},
   "outputs": [
    {
     "data": {
      "text/html": [
       "<div>\n",
       "<style scoped>\n",
       "    .dataframe tbody tr th:only-of-type {\n",
       "        vertical-align: middle;\n",
       "    }\n",
       "\n",
       "    .dataframe tbody tr th {\n",
       "        vertical-align: top;\n",
       "    }\n",
       "\n",
       "    .dataframe thead th {\n",
       "        text-align: right;\n",
       "    }\n",
       "</style>\n",
       "<table border=\"1\" class=\"dataframe\">\n",
       "  <thead>\n",
       "    <tr style=\"text-align: right;\">\n",
       "      <th></th>\n",
       "      <th>SepalLengthCm</th>\n",
       "      <th>SepalWidthCm</th>\n",
       "      <th>PetalLengthCm</th>\n",
       "      <th>PetalWidthCm</th>\n",
       "      <th>Species</th>\n",
       "    </tr>\n",
       "  </thead>\n",
       "  <tbody>\n",
       "    <tr>\n",
       "      <th>0</th>\n",
       "      <td>5.1</td>\n",
       "      <td>3.5</td>\n",
       "      <td>1.4</td>\n",
       "      <td>0.2</td>\n",
       "      <td>Iris-setosa</td>\n",
       "    </tr>\n",
       "    <tr>\n",
       "      <th>1</th>\n",
       "      <td>4.9</td>\n",
       "      <td>3.0</td>\n",
       "      <td>1.4</td>\n",
       "      <td>0.2</td>\n",
       "      <td>Iris-setosa</td>\n",
       "    </tr>\n",
       "    <tr>\n",
       "      <th>2</th>\n",
       "      <td>4.7</td>\n",
       "      <td>3.2</td>\n",
       "      <td>1.3</td>\n",
       "      <td>0.2</td>\n",
       "      <td>Iris-setosa</td>\n",
       "    </tr>\n",
       "    <tr>\n",
       "      <th>3</th>\n",
       "      <td>4.6</td>\n",
       "      <td>3.1</td>\n",
       "      <td>1.5</td>\n",
       "      <td>0.2</td>\n",
       "      <td>Iris-setosa</td>\n",
       "    </tr>\n",
       "    <tr>\n",
       "      <th>4</th>\n",
       "      <td>5.0</td>\n",
       "      <td>3.6</td>\n",
       "      <td>1.4</td>\n",
       "      <td>0.2</td>\n",
       "      <td>Iris-setosa</td>\n",
       "    </tr>\n",
       "  </tbody>\n",
       "</table>\n",
       "</div>"
      ],
      "text/plain": [
       "   SepalLengthCm  SepalWidthCm  PetalLengthCm  PetalWidthCm      Species\n",
       "0            5.1           3.5            1.4           0.2  Iris-setosa\n",
       "1            4.9           3.0            1.4           0.2  Iris-setosa\n",
       "2            4.7           3.2            1.3           0.2  Iris-setosa\n",
       "3            4.6           3.1            1.5           0.2  Iris-setosa\n",
       "4            5.0           3.6            1.4           0.2  Iris-setosa"
      ]
     },
     "execution_count": 2,
     "metadata": {},
     "output_type": "execute_result"
    }
   ],
   "source": [
    "data = pd.read_csv(\"iris.csv\")\n",
    "data.head()"
   ]
  },
  {
   "cell_type": "code",
   "execution_count": 3,
   "id": "47f35ae4-28ae-4573-9ca3-160439c3e1dc",
   "metadata": {},
   "outputs": [
    {
     "name": "stdout",
     "output_type": "stream",
     "text": [
      "No. of rows 150\n",
      "No. of columns 5\n"
     ]
    }
   ],
   "source": [
    "print('No. of rows',data.shape[0])\n",
    "print('No. of columns',data.shape[1])"
   ]
  },
  {
   "cell_type": "code",
   "execution_count": 4,
   "id": "ca251ecd-4932-40fd-9acd-6765f6d28a33",
   "metadata": {},
   "outputs": [
    {
     "data": {
      "text/plain": [
       "Index(['SepalLengthCm', 'SepalWidthCm', 'PetalLengthCm', 'PetalWidthCm',\n",
       "       'Species'],\n",
       "      dtype='object')"
      ]
     },
     "execution_count": 4,
     "metadata": {},
     "output_type": "execute_result"
    }
   ],
   "source": [
    "data.columns"
   ]
  },
  {
   "cell_type": "code",
   "execution_count": 5,
   "id": "d4bb719c-dafc-424a-bd32-aaeb23416686",
   "metadata": {},
   "outputs": [
    {
     "name": "stdout",
     "output_type": "stream",
     "text": [
      "<class 'pandas.core.frame.DataFrame'>\n",
      "RangeIndex: 150 entries, 0 to 149\n",
      "Data columns (total 5 columns):\n",
      " #   Column         Non-Null Count  Dtype  \n",
      "---  ------         --------------  -----  \n",
      " 0   SepalLengthCm  150 non-null    float64\n",
      " 1   SepalWidthCm   150 non-null    float64\n",
      " 2   PetalLengthCm  150 non-null    float64\n",
      " 3   PetalWidthCm   150 non-null    float64\n",
      " 4   Species        150 non-null    object \n",
      "dtypes: float64(4), object(1)\n",
      "memory usage: 6.0+ KB\n"
     ]
    }
   ],
   "source": [
    "data.info()"
   ]
  },
  {
   "cell_type": "markdown",
   "id": "555709ad-63a0-4769-86ee-bd686984342e",
   "metadata": {},
   "source": [
    "**Observation-:**"
   ]
  },
  {
   "cell_type": "markdown",
   "id": "a17ed495-e0b5-407e-8f22-64b16810bfc2",
   "metadata": {},
   "source": [
    "**In this iris Dataset we have 150rows and 5 columns.**"
   ]
  },
  {
   "cell_type": "markdown",
   "id": "323ae420-65eb-4983-b8c6-7662a4e28bc2",
   "metadata": {},
   "source": [
    "# Statistical Analysis"
   ]
  },
  {
   "cell_type": "markdown",
   "id": "5be07bbe-d8b9-4b40-9ba8-789b5f82881a",
   "metadata": {},
   "source": [
    "**Data Integrity Check**"
   ]
  },
  {
   "cell_type": "code",
   "execution_count": 10,
   "id": "493c6317-2872-4acc-985a-4cf08c247e11",
   "metadata": {},
   "outputs": [
    {
     "data": {
      "text/plain": [
       "3"
      ]
     },
     "execution_count": 10,
     "metadata": {},
     "output_type": "execute_result"
    }
   ],
   "source": [
    "data.duplicated().sum()"
   ]
  },
  {
   "cell_type": "code",
   "execution_count": 11,
   "id": "cbb43a20-13c6-482c-893b-91c00c973db5",
   "metadata": {},
   "outputs": [
    {
     "data": {
      "text/html": [
       "<div>\n",
       "<style scoped>\n",
       "    .dataframe tbody tr th:only-of-type {\n",
       "        vertical-align: middle;\n",
       "    }\n",
       "\n",
       "    .dataframe tbody tr th {\n",
       "        vertical-align: top;\n",
       "    }\n",
       "\n",
       "    .dataframe thead th {\n",
       "        text-align: right;\n",
       "    }\n",
       "</style>\n",
       "<table border=\"1\" class=\"dataframe\">\n",
       "  <thead>\n",
       "    <tr style=\"text-align: right;\">\n",
       "      <th></th>\n",
       "      <th>SepalLengthCm</th>\n",
       "      <th>SepalWidthCm</th>\n",
       "      <th>PetalLengthCm</th>\n",
       "      <th>PetalWidthCm</th>\n",
       "      <th>Species</th>\n",
       "    </tr>\n",
       "  </thead>\n",
       "  <tbody>\n",
       "    <tr>\n",
       "      <th>0</th>\n",
       "      <td>5.1</td>\n",
       "      <td>3.5</td>\n",
       "      <td>1.4</td>\n",
       "      <td>0.2</td>\n",
       "      <td>Iris-setosa</td>\n",
       "    </tr>\n",
       "    <tr>\n",
       "      <th>1</th>\n",
       "      <td>4.9</td>\n",
       "      <td>3.0</td>\n",
       "      <td>1.4</td>\n",
       "      <td>0.2</td>\n",
       "      <td>Iris-setosa</td>\n",
       "    </tr>\n",
       "    <tr>\n",
       "      <th>2</th>\n",
       "      <td>4.7</td>\n",
       "      <td>3.2</td>\n",
       "      <td>1.3</td>\n",
       "      <td>0.2</td>\n",
       "      <td>Iris-setosa</td>\n",
       "    </tr>\n",
       "    <tr>\n",
       "      <th>3</th>\n",
       "      <td>4.6</td>\n",
       "      <td>3.1</td>\n",
       "      <td>1.5</td>\n",
       "      <td>0.2</td>\n",
       "      <td>Iris-setosa</td>\n",
       "    </tr>\n",
       "    <tr>\n",
       "      <th>4</th>\n",
       "      <td>5.0</td>\n",
       "      <td>3.6</td>\n",
       "      <td>1.4</td>\n",
       "      <td>0.2</td>\n",
       "      <td>Iris-setosa</td>\n",
       "    </tr>\n",
       "    <tr>\n",
       "      <th>...</th>\n",
       "      <td>...</td>\n",
       "      <td>...</td>\n",
       "      <td>...</td>\n",
       "      <td>...</td>\n",
       "      <td>...</td>\n",
       "    </tr>\n",
       "    <tr>\n",
       "      <th>145</th>\n",
       "      <td>6.7</td>\n",
       "      <td>3.0</td>\n",
       "      <td>5.2</td>\n",
       "      <td>2.3</td>\n",
       "      <td>Iris-virginica</td>\n",
       "    </tr>\n",
       "    <tr>\n",
       "      <th>146</th>\n",
       "      <td>6.3</td>\n",
       "      <td>2.5</td>\n",
       "      <td>5.0</td>\n",
       "      <td>1.9</td>\n",
       "      <td>Iris-virginica</td>\n",
       "    </tr>\n",
       "    <tr>\n",
       "      <th>147</th>\n",
       "      <td>6.5</td>\n",
       "      <td>3.0</td>\n",
       "      <td>5.2</td>\n",
       "      <td>2.0</td>\n",
       "      <td>Iris-virginica</td>\n",
       "    </tr>\n",
       "    <tr>\n",
       "      <th>148</th>\n",
       "      <td>6.2</td>\n",
       "      <td>3.4</td>\n",
       "      <td>5.4</td>\n",
       "      <td>2.3</td>\n",
       "      <td>Iris-virginica</td>\n",
       "    </tr>\n",
       "    <tr>\n",
       "      <th>149</th>\n",
       "      <td>5.9</td>\n",
       "      <td>3.0</td>\n",
       "      <td>5.1</td>\n",
       "      <td>1.8</td>\n",
       "      <td>Iris-virginica</td>\n",
       "    </tr>\n",
       "  </tbody>\n",
       "</table>\n",
       "<p>147 rows × 5 columns</p>\n",
       "</div>"
      ],
      "text/plain": [
       "     SepalLengthCm  SepalWidthCm  PetalLengthCm  PetalWidthCm         Species\n",
       "0              5.1           3.5            1.4           0.2     Iris-setosa\n",
       "1              4.9           3.0            1.4           0.2     Iris-setosa\n",
       "2              4.7           3.2            1.3           0.2     Iris-setosa\n",
       "3              4.6           3.1            1.5           0.2     Iris-setosa\n",
       "4              5.0           3.6            1.4           0.2     Iris-setosa\n",
       "..             ...           ...            ...           ...             ...\n",
       "145            6.7           3.0            5.2           2.3  Iris-virginica\n",
       "146            6.3           2.5            5.0           1.9  Iris-virginica\n",
       "147            6.5           3.0            5.2           2.0  Iris-virginica\n",
       "148            6.2           3.4            5.4           2.3  Iris-virginica\n",
       "149            5.9           3.0            5.1           1.8  Iris-virginica\n",
       "\n",
       "[147 rows x 5 columns]"
      ]
     },
     "execution_count": 11,
     "metadata": {},
     "output_type": "execute_result"
    }
   ],
   "source": [
    "data.drop_duplicates(keep='last')"
   ]
  },
  {
   "cell_type": "markdown",
   "id": "f1bd076f-79d4-4269-bb29-3fddc87a6174",
   "metadata": {},
   "source": [
    "**Now,Dataset doesnot contains Any duplicate entry.So Yes to go.**"
   ]
  },
  {
   "cell_type": "markdown",
   "id": "be7bdde4-06e1-495f-8711-842b830666b0",
   "metadata": {},
   "source": [
    "# Missing value check"
   ]
  },
  {
   "cell_type": "code",
   "execution_count": 14,
   "id": "50d308ab-c343-4038-b0b0-60fee3e56e9b",
   "metadata": {},
   "outputs": [
    {
     "name": "stdout",
     "output_type": "stream",
     "text": [
      "               Missing_values  %Missing values\n",
      "SepalLengthCm               0              0.0\n",
      "SepalWidthCm                0              0.0\n",
      "PetalLengthCm               0              0.0\n",
      "PetalWidthCm                0              0.0\n",
      "Species                     0              0.0\n"
     ]
    }
   ],
   "source": [
    "Missing_val = data.isnull().sum().sort_values(ascending = False)\n",
    "percentage_missing_val = (Missing_val/len(data))*100\n",
    "print(pd.concat([Missing_val,percentage_missing_val], axis = 1, keys=['Missing_values','%Missing values']))"
   ]
  },
  {
   "cell_type": "markdown",
   "id": "76522b26-d1a1-47f1-b8ae-deb609721aab",
   "metadata": {},
   "source": [
    "**There is no missing data!! This will make it easier to work with the dataset.**"
   ]
  },
  {
   "cell_type": "markdown",
   "id": "0d8b1f4a-adae-4d2a-bbba-93487c00f67c",
   "metadata": {},
   "source": [
    "# Statistical Matrix"
   ]
  },
  {
   "cell_type": "code",
   "execution_count": 17,
   "id": "ca8a8f41-06a0-47c8-8bea-56d8b064b47f",
   "metadata": {},
   "outputs": [
    {
     "data": {
      "text/plain": [
       "<Axes: >"
      ]
     },
     "execution_count": 17,
     "metadata": {},
     "output_type": "execute_result"
    },
    {
     "data": {
      "image/png": "[encoded data removed]",
      "text/plain": [
       "<Figure size 2800x1000 with 2 Axes>"
      ]
     },
     "metadata": {},
     "output_type": "display_data"
    }
   ],
   "source": [
    "# visulaize the statistic of the columns using heatmap.\n",
    "plt.figure(figsize=(28,10))\n",
    "sns.heatmap(data.describe(),linewidths = 0.1, fmt='0.1f', annot = True, cmap='PiYG')"
   ]
  },
  {
   "cell_type": "code",
   "execution_count": 18,
   "id": "3ea0ca32-5c0d-45a5-9c00-f7094a883e1b",
   "metadata": {},
   "outputs": [
    {
     "data": {
      "text/html": [
       "<div>\n",
       "<style scoped>\n",
       "    .dataframe tbody tr th:only-of-type {\n",
       "        vertical-align: middle;\n",
       "    }\n",
       "\n",
       "    .dataframe tbody tr th {\n",
       "        vertical-align: top;\n",
       "    }\n",
       "\n",
       "    .dataframe thead th {\n",
       "        text-align: right;\n",
       "    }\n",
       "</style>\n",
       "<table border=\"1\" class=\"dataframe\">\n",
       "  <thead>\n",
       "    <tr style=\"text-align: right;\">\n",
       "      <th></th>\n",
       "      <th>count</th>\n",
       "      <th>mean</th>\n",
       "      <th>std</th>\n",
       "      <th>min</th>\n",
       "      <th>25%</th>\n",
       "      <th>50%</th>\n",
       "      <th>75%</th>\n",
       "      <th>max</th>\n",
       "    </tr>\n",
       "  </thead>\n",
       "  <tbody>\n",
       "    <tr>\n",
       "      <th>SepalLengthCm</th>\n",
       "      <td>150.0</td>\n",
       "      <td>5.843333</td>\n",
       "      <td>0.828066</td>\n",
       "      <td>4.3</td>\n",
       "      <td>5.1</td>\n",
       "      <td>5.80</td>\n",
       "      <td>6.4</td>\n",
       "      <td>7.9</td>\n",
       "    </tr>\n",
       "    <tr>\n",
       "      <th>SepalWidthCm</th>\n",
       "      <td>150.0</td>\n",
       "      <td>3.054000</td>\n",
       "      <td>0.433594</td>\n",
       "      <td>2.0</td>\n",
       "      <td>2.8</td>\n",
       "      <td>3.00</td>\n",
       "      <td>3.3</td>\n",
       "      <td>4.4</td>\n",
       "    </tr>\n",
       "    <tr>\n",
       "      <th>PetalLengthCm</th>\n",
       "      <td>150.0</td>\n",
       "      <td>3.758667</td>\n",
       "      <td>1.764420</td>\n",
       "      <td>1.0</td>\n",
       "      <td>1.6</td>\n",
       "      <td>4.35</td>\n",
       "      <td>5.1</td>\n",
       "      <td>6.9</td>\n",
       "    </tr>\n",
       "    <tr>\n",
       "      <th>PetalWidthCm</th>\n",
       "      <td>150.0</td>\n",
       "      <td>1.198667</td>\n",
       "      <td>0.763161</td>\n",
       "      <td>0.1</td>\n",
       "      <td>0.3</td>\n",
       "      <td>1.30</td>\n",
       "      <td>1.8</td>\n",
       "      <td>2.5</td>\n",
       "    </tr>\n",
       "  </tbody>\n",
       "</table>\n",
       "</div>"
      ],
      "text/plain": [
       "               count      mean       std  min  25%   50%  75%  max\n",
       "SepalLengthCm  150.0  5.843333  0.828066  4.3  5.1  5.80  6.4  7.9\n",
       "SepalWidthCm   150.0  3.054000  0.433594  2.0  2.8  3.00  3.3  4.4\n",
       "PetalLengthCm  150.0  3.758667  1.764420  1.0  1.6  4.35  5.1  6.9\n",
       "PetalWidthCm   150.0  1.198667  0.763161  0.1  0.3  1.30  1.8  2.5"
      ]
     },
     "execution_count": 18,
     "metadata": {},
     "output_type": "execute_result"
    }
   ],
   "source": [
    "data.describe().T"
   ]
  },
  {
   "cell_type": "markdown",
   "id": "61323527-139d-4f48-968d-73e9c2d30588",
   "metadata": {},
   "source": [
    "# E.D.A"
   ]
  },
  {
   "cell_type": "code",
   "execution_count": 20,
   "id": "f651a116-4f00-4531-bf92-7bdd4820a3e6",
   "metadata": {},
   "outputs": [
    {
     "data": {
      "text/plain": [
       "Species\n",
       "Iris-setosa        50\n",
       "Iris-versicolor    50\n",
       "Iris-virginica     50\n",
       "Name: count, dtype: int64"
      ]
     },
     "execution_count": 20,
     "metadata": {},
     "output_type": "execute_result"
    }
   ],
   "source": [
    "data['Species'].value_counts()"
   ]
  },
  {
   "cell_type": "code",
   "execution_count": 21,
   "id": "b442da64-4305-4daf-b573-e4ed4d90e5d5",
   "metadata": {},
   "outputs": [
    {
     "data": {
      "text/plain": [
       "<Axes: xlabel='SepalLengthCm', ylabel='SepalWidthCm'>"
      ]
     },
     "execution_count": 21,
     "metadata": {},
     "output_type": "execute_result"
    },
    {
     "data": {
      "image/png": "[encoded data removed]",
      "text/plain": [
       "<Figure size 640x480 with 1 Axes>"
      ]
     },
     "metadata": {},
     "output_type": "display_data"
    }
   ],
   "source": [
    "data.plot(kind='scatter',x='SepalLengthCm', y='SepalWidthCm') # use this to make a scatterplot of the data features."
   ]
  },
  {
   "cell_type": "code",
   "execution_count": 22,
   "id": "7631eb76-1575-4e0b-b9ce-ab7741ec244a",
   "metadata": {},
   "outputs": [
    {
     "data": {
      "text/plain": [
       "<seaborn.axisgrid.JointGrid at 0x16d11fb2110>"
      ]
     },
     "execution_count": 22,
     "metadata": {},
     "output_type": "execute_result"
    },
    {
     "data": {
      "image/png": "[encoded data removed]",
      "text/plain": [
       "<Figure size 600x600 with 3 Axes>"
      ]
     },
     "metadata": {},
     "output_type": "display_data"
    }
   ],
   "source": [
    "# A seaborn jointplot shows bivariate scatterplots and univariate histograms in the same figure\n",
    "sns.jointplot(x='SepalLengthCm',y='SepalWidthCm', data=data, size=5)"
   ]
  },
  {
   "cell_type": "markdown",
   "id": "0aa63761-c70e-4df5-905d-cf24a30eefeb",
   "metadata": {},
   "source": [
    "# Sepal Length Vs Width"
   ]
  },
  {
   "cell_type": "code",
   "execution_count": null,
   "id": "edfd0fac-0707-4607-b621-06d69cd75daa",
   "metadata": {},
   "outputs": [],
   "source": [
    "ax = data[data.Species == 'Iris-setosa'].plot(kind='scatter', x='SepalLengthCm', y='SepalWidthCm', color='orange', label='Setosa')\n",
    "\n",
    "# Ensure the variable 'iris' is used consistently\n",
    "data[data.Species == 'Iris-versicolor'].plot(kind='scatter', x='SepalLengthCm', y='SepalWidthCm', color='blue', label='Versicolor', ax=ax)\n",
    "data[data.Species == 'Iris-virginica'].plot(kind='scatter', x='SepalLengthCm', y='SepalWidthCm', color='green', label='Virginica', ax=ax)\n",
    "\n",
    "# Setting labels and title\n",
    "ax.set_xlabel('Sepal Length')\n",
    "ax.set_ylabel('Sepal Width')\n",
    "ax.set_title('Sepal Length Vs Width')\n",
    "\n",
    "# Adjusting the figure size\n",
    "fig = plt.gcf()  # Get the current figure\n",
    "fig.set_size_inches(10, 7)\n",
    "\n",
    "# Show the plot\n",
    "plt.show()\n",
    "plt.show()"
   ]
  },
  {
   "cell_type": "code",
   "execution_count": null,
   "id": "9948717a-1c60-40dd-ab20-e232eadca8fc",
   "metadata": {},
   "outputs": [],
   "source": [
    "sns.FacetGrid(data, hue='Species', height=5) \\\n",
    "   .map(plt.scatter, 'SepalLengthCm', 'SepalWidthCm') \\\n",
    "   .add_legend()\n",
    "plt.show()"
   ]
  },
  {
   "cell_type": "markdown",
   "id": "d16e2a7d-5e85-4bbe-ba5c-202f905c44de",
   "metadata": {},
   "source": [
    "# Petal Length Vs Width"
   ]
  },
  {
   "cell_type": "code",
   "execution_count": null,
   "id": "cbe1b592-eace-4066-823a-9e75007608a9",
   "metadata": {},
   "outputs": [],
   "source": [
    "ax = data[data.Species == 'Iris-setosa'].plot(kind='scatter', x='PetalLengthCm', y='PetalWidthCm', color='orange', label='Setosa')\n",
    "\n",
    "# Ensure the variable 'iris' is used consistently\n",
    "data[data.Species == 'Iris-versicolor'].plot(kind='scatter', x='PetalLengthCm', y='PetalWidthCm', color='blue', label='Versicolor', ax=ax)\n",
    "data[data.Species == 'Iris-virginica'].plot(kind='scatter', x='PetalLengthCm', y='PetalWidthCm', color='green', label='Virginica', ax=ax)\n",
    "\n",
    "# Setting labels and title\n",
    "ax.set_xlabel('Petal Length')\n",
    "ax.set_ylabel('Petal Width')\n",
    "ax.set_title('Petal Length Vs Width')\n",
    "\n",
    "# Adjusting the figure size\n",
    "fig = plt.gcf()  # Get the current figure\n",
    "fig.set_size_inches(10, 7)\n",
    "\n",
    "# Show the plot\n",
    "plt.show()\n"
   ]
  },
  {
   "cell_type": "code",
   "execution_count": null,
   "id": "0cfb6f33-1fb2-4ba5-8e57-0c8c7cfd2d36",
   "metadata": {},
   "outputs": [],
   "source": [
    "data.hist(edgecolor='black', linewidth=1.2)\n",
    "fig = plt.gcf()\n",
    "fig.set_size_inches(12,6)\n",
    "plt.show()"
   ]
  },
  {
   "cell_type": "code",
   "execution_count": null,
   "id": "f78162b4-ee6f-4f21-ba48-ddba4f097634",
   "metadata": {},
   "outputs": [],
   "source": [
    "plt.figure(figsize=(15,10))\n",
    "plt.subplot(2,2,1)\n",
    "sns.violinplot(x='Species', y = 'SepalLengthCm', data=data)\n",
    "plt.subplot(2,2,2)\n",
    "sns.violinplot(x='Species', y = 'SepalWidthCm', data=data)\n",
    "\n",
    "plt.subplot(2,2,3)\n",
    "sns.violinplot(x='Species', y = 'PetalLengthCm', data=data)\n",
    "plt.subplot(2,2,4)\n",
    "sns.violinplot(x='Species', y = 'PetalWidthCm', data=data)"
   ]
  },
  {
   "cell_type": "code",
   "execution_count": null,
   "id": "3cc4fdae-cb8b-4e00-8af5-a50768eb7cea",
   "metadata": {},
   "outputs": [],
   "source": [
    "# We can look at an individual feature in Seaborn through a boxplot\n",
    "sns.boxplot(x='Species', y='PetalLengthCm', data=data)"
   ]
  },
  {
   "cell_type": "code",
   "execution_count": null,
   "id": "5012a22a-c037-40ae-b4cc-7a6ae7102d6a",
   "metadata": {},
   "outputs": [],
   "source": [
    "ax = sns.boxplot(data=data, x = 'Species',y = 'PetalLengthCm')\n",
    "ax = sns.stripplot(data=data, x='Species', y='PetalLengthCm', jitter=True, edgecolor='green')"
   ]
  },
  {
   "cell_type": "code",
   "execution_count": null,
   "id": "76d74e29-922a-4608-baa5-09b22731c6b4",
   "metadata": {},
   "outputs": [],
   "source": [
    "sns.FacetGrid(data, hue=\"Species\", height=6) \\\n",
    "   .map(sns.kdeplot, \"PetalLengthCm\") \\\n",
    "   .add_legend()\n",
    "plt.show()"
   ]
  },
  {
   "cell_type": "code",
   "execution_count": null,
   "id": "86dad88d-9c0c-445b-b8ab-79a001ec28bd",
   "metadata": {},
   "outputs": [],
   "source": [
    "sns.pairplot(data = data, hue='Species', height=3)"
   ]
  },
  {
   "cell_type": "markdown",
   "id": "84fcbd9e-f455-4ff4-9238-23866d3d5135",
   "metadata": {},
   "source": [
    "# Encoding Categorial data"
   ]
  },
  {
   "cell_type": "code",
   "execution_count": null,
   "id": "3187726a-dcb2-40c1-bfb3-c6e0642879e6",
   "metadata": {},
   "outputs": [],
   "source": [
    "# oridinal Encoding for oridinal variables\n",
    "from sklearn.preprocessing import OrdinalEncoder\n",
    "oe = OrdinalEncoder()\n",
    "def ordinal_encoder(data, column):\n",
    "    data[column] = oe.fit_transform(data[column])\n",
    "    return data\n",
    "oe_col = ['SepalLengthCm','SepalWidthCm','PetalLengthCm','PetalWidthCm','Species']\n",
    "data = ordinal_encoder(data, oe_col)\n",
    "data.head()"
   ]
  },
  {
   "cell_type": "markdown",
   "id": "a1e8e589-626f-4f43-a9b1-2d722e77a884",
   "metadata": {},
   "source": [
    "# Standard Scaling"
   ]
  },
  {
   "cell_type": "code",
   "execution_count": null,
   "id": "f550721c-f8a5-4669-bddc-92aa7a328e5a",
   "metadata": {},
   "outputs": [],
   "source": [
    "# Spliting data in target and dependent features\n",
    "x = data.drop(['Species'], axis = 1)\n",
    "y = data['Species']"
   ]
  },
  {
   "cell_type": "markdown",
   "id": "9f702861-d668-48ea-aa42-e2ebe9519384",
   "metadata": {},
   "source": [
    "# Correlation"
   ]
  },
  {
   "cell_type": "code",
   "execution_count": null,
   "id": "5edb1d73-e291-4c06-8a34-acfacb6e5390",
   "metadata": {},
   "outputs": [],
   "source": [
    "data.corr()"
   ]
  },
  {
   "cell_type": "code",
   "execution_count": null,
   "id": "adb9014e-12be-46f0-aa1d-9af7ea424044",
   "metadata": {},
   "outputs": [],
   "source": [
    "plt.figure(figsize=(18,6))\n",
    "data.corr()['Species'].drop(['Species']).plot(kind = 'bar', color = 'c')\n",
    "plt.xlabel('Features',fontsize = 15)\n",
    "plt.ylabel('Species',fontsize=15)\n",
    "plt.title('Correlation of features with target variables Species',fontsize=18)\n",
    "plt.show()"
   ]
  },
  {
   "cell_type": "markdown",
   "id": "30342528-e877-45be-a97e-7c8deda45ed7",
   "metadata": {},
   "source": [
    "# PCA"
   ]
  },
  {
   "cell_type": "code",
   "execution_count": null,
   "id": "e7d0ffa8-a934-484a-81fc-d3713994fbb0",
   "metadata": {},
   "outputs": [],
   "source": [
    "from sklearn.decomposition import PCA\n",
    "pca = PCA()\n",
    "# plot the graph to find the principal components\n",
    "x_pca = pca.fit_transform(x)\n",
    "plt.figure(figsize=(10,10))\n",
    "plt.plot(np.cumsum(pca.explained_variance_ratio_), 'ro-')\n",
    "plt.xlabel('Number of components')\n",
    "plt.ylabel('Variance%')\n",
    "plt.title(\"Explained variance ratio\")\n",
    "plt.grid()"
   ]
  },
  {
   "cell_type": "markdown",
   "id": "0d1d517b-e621-4b55-9f3f-701bbc1ab654",
   "metadata": {},
   "source": [
    "# Machine Learning Model Building"
   ]
  },
  {
   "cell_type": "code",
   "execution_count": null,
   "id": "cd65981d-b4e5-49a8-8c1c-8913aecb4c1d",
   "metadata": {},
   "outputs": [],
   "source": [
    "from sklearn.model_selection import train_test_split\n",
    "from sklearn.linear_model import LogisticRegression\n",
    "from sklearn.naive_bayes import GaussianNB\n",
    "from sklearn.tree import DecisionTreeClassifier\n",
    "from sklearn.neighbors import KNeighborsClassifier\n",
    "from sklearn.svm import SVC\n",
    "from sklearn.metrics import accuracy_score,confusion_matrix,classification_report,f1_score\n",
    "from sklearn.ensemble import RandomForestClassifier\n",
    "from sklearn.ensemble import ExtraTreesClassifier\n",
    "from sklearn.ensemble import AdaBoostClassifier\n",
    "from sklearn.ensemble import GradientBoostingClassifier\n",
    "from sklearn.ensemble import BaggingClassifier\n"
   ]
  },
  {
   "cell_type": "code",
   "execution_count": null,
   "id": "79fecb20-668f-4ba4-b609-5245690d3750",
   "metadata": {},
   "outputs": [],
   "source": [
    "x_train,x_test,y_train,y_test = train_test_split(x,y,test_size=.33, random_state=42)\n",
    "print('Training feature matrix size:', x_train.shape)\n",
    "print('Training target vector :',y_train.shape)\n",
    "print('Test feature matrix size :',x_test.shape)\n",
    "print('Test target vector size :', y_test.shape)"
   ]
  },
  {
   "cell_type": "markdown",
   "id": "815207ea-5e73-4ed8-a633-79922eb71aea",
   "metadata": {},
   "source": [
    "# Find Best Random Rate"
   ]
  },
  {
   "cell_type": "code",
   "execution_count": null,
   "id": "8aa62b3d-9cfa-459f-8bf6-1fe60176b6e7",
   "metadata": {},
   "outputs": [],
   "source": [
    "from sklearn.linear_model import LogisticRegression\n",
    "from sklearn.metrics import accuracy_score, confusion_matrix, classification_report, f1_score\n",
    "maxAccu=0\n",
    "maxRs=0\n",
    "for i in range (1,250):\n",
    "    x_train,x_test,y_train,y_test= train_test_split(x,y,test_size = 0.33, random_state=i)\n",
    "    lr = LogisticRegression()\n",
    "    lr.fit(x_train,y_train)\n",
    "    y_pred=lr.predict(x_test)\n",
    "    acc = accuracy_score(y_test, y_pred)\n",
    "    if acc>maxAccu:\n",
    "        maxAccu=acc\n",
    "        maxRS=i\n",
    "print('Best accuracy is', maxAccu, 'on Random_state',maxRS)"
   ]
  },
  {
   "cell_type": "markdown",
   "id": "f57c16fa-0e3e-489a-98b8-0422e78733f1",
   "metadata": {},
   "source": [
    "# Logistic Regression"
   ]
  },
  {
   "cell_type": "code",
   "execution_count": null,
   "id": "d2b2f6bb-cbfb-41e3-a7cd-b7a1e3e87bb1",
   "metadata": {},
   "outputs": [],
   "source": [
    "x_train,x_test,y_train,y_test = train_test_split(x,y,test_size=.33,random_state=242)\n",
    "lrr = LogisticRegression()\n",
    "lrr.fit(x_train,y_train)\n",
    "y_pred = lrr.predict(x_test)\n",
    "print(\"Logistic Regression Evaluation\")\n",
    "print('\\n')\n",
    "print(\"Accuracy Score Of Logistic Regression : \",accuracy_score(y_test,y_pred))\n",
    "print(\"Confusion Matrix Of Logistic Regression : \",confusion_matrix(y_test,y_pred))\n",
    "print(\"Classification Report Of Logistic Regression : \", classification_report(y_test,y_pred))"
   ]
  },
  {
   "cell_type": "markdown",
   "id": "901be5f2-a72d-4c4b-a389-9610d98d2b4b",
   "metadata": {},
   "source": [
    "# Cross Validation Score-:"
   ]
  },
  {
   "cell_type": "code",
   "execution_count": null,
   "id": "f9bc299d-5b84-45fa-a2f1-b3d4a0a1416e",
   "metadata": {},
   "outputs": [],
   "source": [
    "from sklearn.model_selection import cross_val_score\n",
    "cv_score = cross_val_score(lrr, x,y,cv=5)\n",
    "print(\"Cross Validation Score\",lrr)\n",
    "print(\"CVS Score : \", cv_score)\n",
    "print(\"Mean CVS Score : \", cv_score.mean())\n",
    "print(\"Std Deviation : \",cv_score.std())"
   ]
  },
  {
   "cell_type": "markdown",
   "id": "fd730f5c-fb20-4ae9-92da-5825b2855dde",
   "metadata": {},
   "source": [
    "# Apply other classification algorithm"
   ]
  },
  {
   "cell_type": "code",
   "execution_count": null,
   "id": "c9adafe1-186b-4fa1-9e70-2c4df2aa5488",
   "metadata": {},
   "outputs": [],
   "source": [
    "models =[\n",
    "    SVC(),\n",
    "    DecisionTreeClassifier(),\n",
    "    KNeighborsClassifier(),\n",
    "    RandomForestClassifier(),\n",
    "    AdaBoostClassifier(),\n",
    "    GradientBoostingClassifier(),\n",
    "    BaggingClassifier()]\n",
    "\n",
    "for m in models:\n",
    "    m.fit(x_train,y_train)\n",
    "    y_pred=m.predict(x_test)\n",
    "    print('\\033[1m'+'Classification ML Algorithm Evaluation Matrix',m,'is' + '\\033[0m')\n",
    "    print('\\n')\n",
    "    print('\\033[1m'+'Accuracy Score :' + '\\033[0m\\n',accuracy_score(y_test,y_pred))\n",
    "    print('\\n')\n",
    "    print('\\033[1m'+'Confusion Matrix' + '\\033[0m \\n',confusion_matrix(y_test,y_pred))\n",
    "    print('\\n')\n",
    "    print('\\033[1m'+'Classification Report' + '\\033[0m \\n',classification_report(y_test,y_pred))\n",
    "    print('\\n')\n",
    "    print('===================================================================================================================')"
   ]
  },
  {
   "cell_type": "markdown",
   "id": "16f6a79e-4c9c-4554-8336-25e53dfd197a",
   "metadata": {},
   "source": [
    "# CrossValidation"
   ]
  },
  {
   "cell_type": "code",
   "execution_count": null,
   "id": "1a142351-8830-4ed9-b89e-689abace5e09",
   "metadata": {},
   "outputs": [],
   "source": [
    "from sklearn.model_selection import cross_val_score\n",
    "model =[\n",
    "    SVC(),\n",
    "    DecisionTreeClassifier(),\n",
    "    KNeighborsClassifier(n_neighbors=12),\n",
    "    RandomForestClassifier(),\n",
    "    AdaBoostClassifier(),\n",
    "    GradientBoostingClassifier(),\n",
    "    BaggingClassifier()]\n",
    "for c in model:\n",
    "    score = cross_val_score(c,x,y, cv=5)\n",
    "    print('\\n')\n",
    "    print('\\033[1m'+'Cross Validation Score',c,'is' + '\\033[0m')\n",
    "    print(\"Score\",score)\n",
    "    print(\"Mean Score :\",score.mean())\n",
    "    print(\"Std Deviation\", score.std())\n",
    "    print('\\n')\n",
    "    print('=====================================================================================================================')"
   ]
  },
  {
   "cell_type": "markdown",
   "id": "c6c1dd7a-030d-485d-92d2-32d84872f1bc",
   "metadata": {},
   "source": [
    "# Hyper Parameter Tunning: GridSearchCV"
   ]
  },
  {
   "cell_type": "code",
   "execution_count": null,
   "id": "4b62464b-0073-4b84-8610-296fef7e87de",
   "metadata": {},
   "outputs": [],
   "source": [
    "from sklearn.model_selection import GridSearchCV"
   ]
  },
  {
   "cell_type": "code",
   "execution_count": null,
   "id": "dff6fa58-0362-4e7a-b128-e98e0bb77c3a",
   "metadata": {},
   "outputs": [],
   "source": [
    "param = [{'n_estimators':[5,10,15,25,50,100],\n",
    "         'criterion':['gini','entropy'],\n",
    "         'max_depth':[5,10,20,40,50,None],\n",
    "         'max_features':['auto','log2'],\n",
    "          'bootstrap':[True]\n",
    "         }]"
   ]
  },
  {
   "cell_type": "code",
   "execution_count": null,
   "id": "f92b887c-898e-40f4-8a65-ebbef5445f27",
   "metadata": {},
   "outputs": [],
   "source": [
    "gc = GridSearchCV(RandomForestClassifier(),param,cv = 5, n_jobs = -1,verbose=5)\n",
    "gc.fit(x_train,y_train)"
   ]
  },
  {
   "cell_type": "code",
   "execution_count": null,
   "id": "a57472e5-5100-4fe3-8cbb-3ee8a27d2dfd",
   "metadata": {},
   "outputs": [],
   "source": [
    "gc.best_params_"
   ]
  },
  {
   "cell_type": "markdown",
   "id": "d8a8cba7-f89c-4797-8302-83f6adf06757",
   "metadata": {},
   "source": [
    "# Final Model"
   ]
  },
  {
   "cell_type": "code",
   "execution_count": null,
   "id": "70344a06-1e19-42c1-bb86-2fe116699524",
   "metadata": {},
   "outputs": [],
   "source": [
    "final = RandomForestClassifier(bootstrap = True ,criterion= 'entropy', max_depth = 50 , max_features = 'log2', n_estimators = 5)\n",
    "final.fit(x_train,y_train)\n",
    "y_pred = final.predict(x_test)\n",
    "print(\" Final Random Forest Classifier Evaluation\")\n",
    "print('\\n')\n",
    "print(\"Accuracy Score Of Random Forest Classifier : \",accuracy_score(y_test,y_pred))"
   ]
  },
  {
   "cell_type": "markdown",
   "id": "7725ae85-7d6d-4edd-a81b-7d11fc459819",
   "metadata": {},
   "source": [
    "# Saving Model"
   ]
  },
  {
   "cell_type": "code",
   "execution_count": null,
   "id": "290f8a94-690a-40c9-87f4-19b9d997da6a",
   "metadata": {},
   "outputs": [],
   "source": [
    "import joblib\n",
    "joblib.dump(final,\"Iris\")"
   ]
  },
  {
   "cell_type": "code",
   "execution_count": null,
   "id": "6ed1e719-23b7-4cd9-a7c4-3d3bc763763f",
   "metadata": {},
   "outputs": [],
   "source": []
  }
 ],
 "metadata": {
  "kernelspec": {
   "display_name": "Python 3 (ipykernel)",
   "language": "python",
   "name": "python3"
  },
  "language_info": {
   "codemirror_mode": {
    "name": "ipython",
    "version": 3
   },
   "file_extension": ".py",
   "mimetype": "text/x-python",
   "name": "python",
   "nbconvert_exporter": "python",
   "pygments_lexer": "ipython3",
   "version": "3.10.14"
  }
 },
 "nbformat": 4,
 "nbformat_minor": 5
}
